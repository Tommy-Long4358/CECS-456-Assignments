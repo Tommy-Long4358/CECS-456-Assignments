{
  "cells": [
    {
      "cell_type": "markdown",
      "metadata": {
        "id": "LxfjcWU4Q8QH"
      },
      "source": [
        "Support Vector Regression: [SVR](https://scikit-learn.org/stable/modules/generated/sklearn.svm.SVR.html)\n",
        "\n",
        " Standardization: [StandardScaler](https://scikit-learn.org/stable/modules/generated/sklearn.preprocessing.StandardScaler.html#sklearn.preprocessing.StandardScaler.fit_transform) "
      ]
    },
    {
      "cell_type": "code",
      "execution_count": 7,
      "metadata": {
        "id": "njsKk5dl521B"
      },
      "outputs": [],
      "source": [
        "# Import the libraries (numpy, pandas, pyplot)\n",
        "import pandas as pd\n",
        "import numpy as np\n",
        "import matplotlib.pyplot as plt\n",
        "\n",
        "# Import data from Position_Salaries.csv file into a DataFrame\n",
        "df = pd.read_csv(\"Position_Salaries.csv\")"
      ]
    },
    {
      "cell_type": "code",
      "execution_count": 8,
      "metadata": {
        "id": "ZCUfqhdP7Bc2"
      },
      "outputs": [],
      "source": [
        "# Define the feature and target values\n",
        "X = df.iloc[:, 1:2].values\n",
        "y = df[\"Salary\"].values"
      ]
    },
    {
      "cell_type": "code",
      "execution_count": 9,
      "metadata": {
        "colab": {
          "base_uri": "https://localhost:8080/"
        },
        "id": "hT6LmyXlFZgC",
        "outputId": "e848cad1-26ff-40a9-dbd9-df9896dd6600"
      },
      "outputs": [
        {
          "name": "stdout",
          "output_type": "stream",
          "text": [
            "[1] 45000\n",
            "[2] 50000\n",
            "[3] 60000\n",
            "[4] 80000\n",
            "[5] 110000\n",
            "[6] 150000\n",
            "[7] 200000\n",
            "[8] 300000\n",
            "[9] 500000\n",
            "[10] 1000000\n"
          ]
        }
      ],
      "source": [
        "# Before feature scaling\n",
        "for x, y_ in zip(X, y):\n",
        "    print(x, y_)"
      ]
    },
    {
      "cell_type": "code",
      "execution_count": 10,
      "metadata": {
        "id": "BHVx9GCl3J_F"
      },
      "outputs": [],
      "source": [
        "# FEATURE SCALING\n",
        "\n",
        "# import StandardScaler from sklearn\n",
        "from sklearn.preprocessing import StandardScaler\n",
        "\n",
        "# create instances of StandardScaler\n",
        "sc_x = StandardScaler()\n",
        "sc_y = StandardScaler()\n",
        "\n",
        "# transform X using fit_transform method of sc_x\n",
        "X = sc_x.fit_transform(X)\n",
        "\n",
        "# transform y using fit_transform method of sc_y \n",
        "# param: 2D array y\n",
        "y = sc_y.fit_transform(y.reshape(-1, 1))"
      ]
    },
    {
      "cell_type": "code",
      "execution_count": 11,
      "metadata": {
        "colab": {
          "base_uri": "https://localhost:8080/"
        },
        "id": "9JoploA24y4l",
        "outputId": "87688708-a092-4a62-aa9e-9f696f472f22"
      },
      "outputs": [
        {
          "name": "stdout",
          "output_type": "stream",
          "text": [
            "[-1.5666989] [-0.72004253]\n",
            "[-1.21854359] [-0.70243757]\n",
            "[-0.87038828] [-0.66722767]\n",
            "[-0.52223297] [-0.59680786]\n",
            "[-0.17407766] [-0.49117815]\n",
            "[0.17407766] [-0.35033854]\n",
            "[0.52223297] [-0.17428902]\n",
            "[0.87038828] [0.17781001]\n",
            "[1.21854359] [0.88200808]\n",
            "[1.5666989] [2.64250325]\n"
          ]
        }
      ],
      "source": [
        "# After feature scaling\n",
        "for x, y_ in zip(X, y):\n",
        "    print(x, y_)"
      ]
    },
    {
      "cell_type": "code",
      "execution_count": 12,
      "metadata": {
        "colab": {
          "base_uri": "https://localhost:8080/"
        },
        "id": "mFah3Z5Q3b57",
        "outputId": "1f3a7ac5-92ef-44f4-f56f-f7b11c36a79c"
      },
      "outputs": [
        {
          "name": "stderr",
          "output_type": "stream",
          "text": [
            "c:\\Users\\Waffl\\AppData\\Local\\Programs\\Python\\Python310\\lib\\site-packages\\sklearn\\utils\\validation.py:1111: DataConversionWarning: A column-vector y was passed when a 1d array was expected. Please change the shape of y to (n_samples, ), for example using ravel().\n",
            "  y = column_or_1d(y, warn=True)\n"
          ]
        },
        {
          "data": {
            "text/html": [
              "<style>#sk-container-id-1 {color: black;background-color: white;}#sk-container-id-1 pre{padding: 0;}#sk-container-id-1 div.sk-toggleable {background-color: white;}#sk-container-id-1 label.sk-toggleable__label {cursor: pointer;display: block;width: 100%;margin-bottom: 0;padding: 0.3em;box-sizing: border-box;text-align: center;}#sk-container-id-1 label.sk-toggleable__label-arrow:before {content: \"▸\";float: left;margin-right: 0.25em;color: #696969;}#sk-container-id-1 label.sk-toggleable__label-arrow:hover:before {color: black;}#sk-container-id-1 div.sk-estimator:hover label.sk-toggleable__label-arrow:before {color: black;}#sk-container-id-1 div.sk-toggleable__content {max-height: 0;max-width: 0;overflow: hidden;text-align: left;background-color: #f0f8ff;}#sk-container-id-1 div.sk-toggleable__content pre {margin: 0.2em;color: black;border-radius: 0.25em;background-color: #f0f8ff;}#sk-container-id-1 input.sk-toggleable__control:checked~div.sk-toggleable__content {max-height: 200px;max-width: 100%;overflow: auto;}#sk-container-id-1 input.sk-toggleable__control:checked~label.sk-toggleable__label-arrow:before {content: \"▾\";}#sk-container-id-1 div.sk-estimator input.sk-toggleable__control:checked~label.sk-toggleable__label {background-color: #d4ebff;}#sk-container-id-1 div.sk-label input.sk-toggleable__control:checked~label.sk-toggleable__label {background-color: #d4ebff;}#sk-container-id-1 input.sk-hidden--visually {border: 0;clip: rect(1px 1px 1px 1px);clip: rect(1px, 1px, 1px, 1px);height: 1px;margin: -1px;overflow: hidden;padding: 0;position: absolute;width: 1px;}#sk-container-id-1 div.sk-estimator {font-family: monospace;background-color: #f0f8ff;border: 1px dotted black;border-radius: 0.25em;box-sizing: border-box;margin-bottom: 0.5em;}#sk-container-id-1 div.sk-estimator:hover {background-color: #d4ebff;}#sk-container-id-1 div.sk-parallel-item::after {content: \"\";width: 100%;border-bottom: 1px solid gray;flex-grow: 1;}#sk-container-id-1 div.sk-label:hover label.sk-toggleable__label {background-color: #d4ebff;}#sk-container-id-1 div.sk-serial::before {content: \"\";position: absolute;border-left: 1px solid gray;box-sizing: border-box;top: 0;bottom: 0;left: 50%;z-index: 0;}#sk-container-id-1 div.sk-serial {display: flex;flex-direction: column;align-items: center;background-color: white;padding-right: 0.2em;padding-left: 0.2em;position: relative;}#sk-container-id-1 div.sk-item {position: relative;z-index: 1;}#sk-container-id-1 div.sk-parallel {display: flex;align-items: stretch;justify-content: center;background-color: white;position: relative;}#sk-container-id-1 div.sk-item::before, #sk-container-id-1 div.sk-parallel-item::before {content: \"\";position: absolute;border-left: 1px solid gray;box-sizing: border-box;top: 0;bottom: 0;left: 50%;z-index: -1;}#sk-container-id-1 div.sk-parallel-item {display: flex;flex-direction: column;z-index: 1;position: relative;background-color: white;}#sk-container-id-1 div.sk-parallel-item:first-child::after {align-self: flex-end;width: 50%;}#sk-container-id-1 div.sk-parallel-item:last-child::after {align-self: flex-start;width: 50%;}#sk-container-id-1 div.sk-parallel-item:only-child::after {width: 0;}#sk-container-id-1 div.sk-dashed-wrapped {border: 1px dashed gray;margin: 0 0.4em 0.5em 0.4em;box-sizing: border-box;padding-bottom: 0.4em;background-color: white;}#sk-container-id-1 div.sk-label label {font-family: monospace;font-weight: bold;display: inline-block;line-height: 1.2em;}#sk-container-id-1 div.sk-label-container {text-align: center;}#sk-container-id-1 div.sk-container {/* jupyter's `normalize.less` sets `[hidden] { display: none; }` but bootstrap.min.css set `[hidden] { display: none !important; }` so we also need the `!important` here to be able to override the default hidden behavior on the sphinx rendered scikit-learn.org. See: https://github.com/scikit-learn/scikit-learn/issues/21755 */display: inline-block !important;position: relative;}#sk-container-id-1 div.sk-text-repr-fallback {display: none;}</style><div id=\"sk-container-id-1\" class=\"sk-top-container\"><div class=\"sk-text-repr-fallback\"><pre>SVR()</pre><b>In a Jupyter environment, please rerun this cell to show the HTML representation or trust the notebook. <br />On GitHub, the HTML representation is unable to render, please try loading this page with nbviewer.org.</b></div><div class=\"sk-container\" hidden><div class=\"sk-item\"><div class=\"sk-estimator sk-toggleable\"><input class=\"sk-toggleable__control sk-hidden--visually\" id=\"sk-estimator-id-1\" type=\"checkbox\" checked><label for=\"sk-estimator-id-1\" class=\"sk-toggleable__label sk-toggleable__label-arrow\">SVR</label><div class=\"sk-toggleable__content\"><pre>SVR()</pre></div></div></div></div></div>"
            ],
            "text/plain": [
              "SVR()"
            ]
          },
          "execution_count": 12,
          "metadata": {},
          "output_type": "execute_result"
        }
      ],
      "source": [
        "# Build a SVR model on the whole dataset\n",
        "\n",
        "# import SVR from sklearn\n",
        "from sklearn.svm import SVR\n",
        "\n",
        "# train the SVR model\n",
        "regressor = SVR()\n",
        "\n",
        "# fit\n",
        "regressor.fit(X, y)"
      ]
    },
    {
      "cell_type": "code",
      "execution_count": 13,
      "metadata": {
        "colab": {
          "base_uri": "https://localhost:8080/",
          "height": 295
        },
        "id": "TpEPUQki9_Sd",
        "outputId": "e9992f6d-6621-42f6-8f20-822276bb9383"
      },
      "outputs": [
        {
          "data": {
            "image/png": "[encoded data removed]",
            "text/plain": [
              "<Figure size 640x480 with 1 Axes>"
            ]
          },
          "metadata": {},
          "output_type": "display_data"
        }
      ],
      "source": [
        "# Visualise the SVR results on the whole dataset\n",
        "\n",
        "# draw scatter plots of the whole dataset\n",
        "#   x-axis: Position Level\n",
        "#   y-axis: Salary\n",
        "plt.scatter(X, y)\n",
        "\n",
        "# Draw the Regression line\n",
        "#   x: X\n",
        "#   y: predicted results of the regressor on X\n",
        "plt.plot(X, regressor.predict(X), color=\"red\")\n",
        "plt.title(\"Support Vector Regression Model\")\n",
        "plt.xlabel(\"Position Level\")\n",
        "plt.ylabel(\"Salary\")\n",
        "plt.show()"
      ]
    },
    {
      "cell_type": "code",
      "execution_count": 14,
      "metadata": {
        "colab": {
          "base_uri": "https://localhost:8080/"
        },
        "id": "38nQCVj5Am-a",
        "outputId": "f43a73e5-97d9-41d0-b513-af715e390681"
      },
      "outputs": [
        {
          "data": {
            "text/plain": [
              "131106.77303274476"
            ]
          },
          "execution_count": 14,
          "metadata": {},
          "output_type": "execute_result"
        }
      ],
      "source": [
        "# Predict Salary from 5.5 Years Experience\n",
        "# param: transformed 2d array (sc_x.transform)\n",
        "y_pred = regressor.predict(sc_x.transform([[5.5]])).reshape(-1, 1)\n",
        "\n",
        "# convert y_pred to an unscaled value using sc_y.inverse_transform\n",
        "# param: 2d array scaled y_pred\n",
        "y_pred = sc_y.inverse_transform(y_pred)\n",
        "\n",
        "y_pred[0][0]"
      ]
    }
  ],
  "metadata": {
    "colab": {
      "provenance": []
    },
    "kernelspec": {
      "display_name": "Python 3",
      "language": "python",
      "name": "python3"
    },
    "language_info": {
      "codemirror_mode": {
        "name": "ipython",
        "version": 3
      },
      "file_extension": ".py",
      "mimetype": "text/x-python",
      "name": "python",
      "nbconvert_exporter": "python",
      "pygments_lexer": "ipython3",
      "version": "3.10.7"
    },
    "vscode": {
      "interpreter": {
        "hash": "bc985700feddf58acae0507c47d0f6cfb8bb522f907800887f16fea94c84434a"
      }
    }
  },
  "nbformat": 4,
  "nbformat_minor": 0
}
