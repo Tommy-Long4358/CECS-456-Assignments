{
  "nbformat": 4,
  "nbformat_minor": 0,
  "metadata": {
    "colab": {
      "provenance": []
    },
    "kernelspec": {
      "name": "python3",
      "display_name": "Python 3"
    },
    "language_info": {
      "name": "python"
    }
  },
  "cells": [
    {
      "cell_type": "markdown",
      "source": [
        "Support Vector Regression: [SVR](https://scikit-learn.org/stable/modules/generated/sklearn.svm.SVR.html)\n",
        "\n",
        " Standardization: [StandardScaler](https://scikit-learn.org/stable/modules/generated/sklearn.preprocessing.StandardScaler.html#sklearn.preprocessing.StandardScaler.fit_transform) "
      ],
      "metadata": {
        "id": "LxfjcWU4Q8QH"
      }
    },
    {
      "cell_type": "code",
      "source": [
        "# Import the libraries (numpy, pandas, pyplot)\n",
        "\n",
        "\n",
        "# Import data from Position_Salaries.csv file into a DataFrame\n",
        "df = \n"
      ],
      "metadata": {
        "id": "njsKk5dl521B"
      },
      "execution_count": null,
      "outputs": []
    },
    {
      "cell_type": "code",
      "source": [
        "# Define the feature and target values\n",
        "X = \n",
        "y = "
      ],
      "metadata": {
        "id": "ZCUfqhdP7Bc2"
      },
      "execution_count": null,
      "outputs": []
    },
    {
      "cell_type": "code",
      "source": [
        "# Before feature scaling\n",
        "for x, y_ in zip(X, y):\n",
        "    print(x, y_)"
      ],
      "metadata": {
        "colab": {
          "base_uri": "https://localhost:8080/"
        },
        "id": "hT6LmyXlFZgC",
        "outputId": "e848cad1-26ff-40a9-dbd9-df9896dd6600"
      },
      "execution_count": null,
      "outputs": [
        {
          "output_type": "stream",
          "name": "stdout",
          "text": [
            "[1] 45000\n",
            "[2] 50000\n",
            "[3] 60000\n",
            "[4] 80000\n",
            "[5] 110000\n",
            "[6] 150000\n",
            "[7] 200000\n",
            "[8] 300000\n",
            "[9] 500000\n",
            "[10] 1000000\n"
          ]
        }
      ]
    },
    {
      "cell_type": "code",
      "source": [
        "# FEATURE SCALING\n",
        "\n",
        "# import StandardScaler from sklearn\n",
        "\n",
        "\n",
        "# create instances of StandardScaler\n",
        "sc_x = \n",
        "sc_y = \n",
        "\n",
        "# transform X using fit_transform method of sc_x\n",
        "X = \n",
        "\n",
        "# transform y using fit_transform method of sc_y \n",
        "# param: 2D array y\n",
        "y = "
      ],
      "metadata": {
        "id": "BHVx9GCl3J_F"
      },
      "execution_count": null,
      "outputs": []
    },
    {
      "cell_type": "code",
      "source": [
        "# After feature scaling\n",
        "for x, y_ in zip(X, y):\n",
        "    print(x, y_)"
      ],
      "metadata": {
        "colab": {
          "base_uri": "https://localhost:8080/"
        },
        "id": "9JoploA24y4l",
        "outputId": "87688708-a092-4a62-aa9e-9f696f472f22"
      },
      "execution_count": null,
      "outputs": [
        {
          "output_type": "stream",
          "name": "stdout",
          "text": [
            "[-1.5666989] [-0.72004253]\n",
            "[-1.21854359] [-0.70243757]\n",
            "[-0.87038828] [-0.66722767]\n",
            "[-0.52223297] [-0.59680786]\n",
            "[-0.17407766] [-0.49117815]\n",
            "[0.17407766] [-0.35033854]\n",
            "[0.52223297] [-0.17428902]\n",
            "[0.87038828] [0.17781001]\n",
            "[1.21854359] [0.88200808]\n",
            "[1.5666989] [2.64250325]\n"
          ]
        }
      ]
    },
    {
      "cell_type": "code",
      "source": [
        "# Build a SVR model on the whole dataset\n",
        "\n",
        "# import SVR from sklearn\n",
        "\n",
        "\n",
        "# train the SVR model\n",
        "regressor = \n",
        "# fit"
      ],
      "metadata": {
        "colab": {
          "base_uri": "https://localhost:8080/"
        },
        "id": "mFah3Z5Q3b57",
        "outputId": "1f3a7ac5-92ef-44f4-f56f-f7b11c36a79c"
      },
      "execution_count": null,
      "outputs": [
        {
          "output_type": "stream",
          "name": "stderr",
          "text": [
            "/usr/local/lib/python3.8/dist-packages/sklearn/utils/validation.py:993: DataConversionWarning: A column-vector y was passed when a 1d array was expected. Please change the shape of y to (n_samples, ), for example using ravel().\n",
            "  y = column_or_1d(y, warn=True)\n"
          ]
        },
        {
          "output_type": "execute_result",
          "data": {
            "text/plain": [
              "SVR()"
            ]
          },
          "metadata": {},
          "execution_count": 6
        }
      ]
    },
    {
      "cell_type": "code",
      "source": [
        "# Visualise the SVR results on the whole dataset\n",
        "\n",
        "# draw scatter plots of the whole dataset\n",
        "#   x-axis: Position Level\n",
        "#   y-axis: Salary\n",
        "\n",
        "\n",
        "# Draw the Regression line\n",
        "#   x: X\n",
        "#   y: predicted results of the regressor on X\n",
        "\n"
      ],
      "metadata": {
        "colab": {
          "base_uri": "https://localhost:8080/",
          "height": 295
        },
        "id": "TpEPUQki9_Sd",
        "outputId": "e9992f6d-6621-42f6-8f20-822276bb9383"
      },
      "execution_count": null,
      "outputs": [
        {
          "output_type": "display_data",
          "data": {
            "text/plain": [
              "<Figure size 432x288 with 1 Axes>"
            ],
            "image/png": "[encoded data removed]"
          },
          "metadata": {
            "needs_background": "light"
          }
        }
      ]
    },
    {
      "cell_type": "code",
      "source": [
        "# Predict Salary from 5.5 Years Experience\n",
        "# param: transformed 2d array (sc_x.transform)\n",
        "y_pred = \n",
        "\n",
        "# convert y_pred to an unscaled value using sc_y.inverse_transform\n",
        "# param: 2d array scaled y_pred\n",
        "y_pred = \n",
        "\n",
        "y_pred[0][0]"
      ],
      "metadata": {
        "colab": {
          "base_uri": "https://localhost:8080/"
        },
        "id": "38nQCVj5Am-a",
        "outputId": "f43a73e5-97d9-41d0-b513-af715e390681"
      },
      "execution_count": null,
      "outputs": [
        {
          "output_type": "execute_result",
          "data": {
            "text/plain": [
              "131106.77303274476"
            ]
          },
          "metadata": {},
          "execution_count": 8
        }
      ]
    }
  ]
}